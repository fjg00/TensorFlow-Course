{
  "nbformat": 4,
  "nbformat_minor": 0,
  "metadata": {
    "colab": {
      "name": "Tensorflow Github Workshop.ipynb",
      "provenance": [],
      "authorship_tag": "ABX9TyNc4HHX4RJgdpAJTGMyGioo",
      "include_colab_link": true
    },
    "kernelspec": {
      "name": "python3",
      "display_name": "Python 3"
    }
  },
  "cells": [
    {
      "cell_type": "markdown",
      "metadata": {
        "id": "view-in-github",
        "colab_type": "text"
      },
      "source": [
        "<a href=\"https://colab.research.google.com/github/fjg00/TensorFlow-Course/blob/master/Tensorflow_Github_Workshop.ipynb\" target=\"_parent\"><img src=\"https://colab.research.google.com/assets/colab-badge.svg\" alt=\"Open In Colab\"/></a>"
      ]
    },
    {
      "cell_type": "markdown",
      "metadata": {
        "id": "ZrVc9DM0X5o6"
      },
      "source": [
        "We are using an NN-Based project, we will need to use tensorflow. Tensorflow is a general tool for the manipulation of mathematical entities called ***tensors***.\r\n",
        "NNs are a single use of tenors.\r\n",
        "\r\n",
        "\r\n",
        "**Keras** acts as a high-level API (Application Programmming Interface) which allows users to easily **generate, define and manipulate structures** within Tensorflow."
      ]
    },
    {
      "cell_type": "code",
      "metadata": {
        "id": "s2mntf1lXeCo"
      },
      "source": [
        "import numpy\r\n",
        "import matplotlib.pyplot as plt\r\n",
        "import tensorflow as tf\r\n",
        "from tensorflow import keras\r\n"
      ],
      "execution_count": 1,
      "outputs": []
    },
    {
      "cell_type": "markdown",
      "metadata": {
        "id": "igyDKIDOX6CL"
      },
      "source": [
        "We will be doing a simple 6:1 ratio of training: testing\r\n",
        "\r\n",
        "We first load in the dataset from the keras package. We assigned the name fashion_mist to a dataset located within Keras' dataset library.\r\n",
        "\r\n"
      ]
    },
    {
      "cell_type": "code",
      "metadata": {
        "id": "vOrgxvZSX1Zb"
      },
      "source": [
        "fashion_mnist = keras.datasets.fashion_mnist"
      ],
      "execution_count": 2,
      "outputs": []
    },
    {
      "cell_type": "markdown",
      "metadata": {
        "id": "uHaKbENDZfFW"
      },
      "source": [
        "We define 4 arrays that contain the training and testing data which are separated into labels and images.\r\n",
        "\r\n",
        "**Important:**\r\n",
        "\r\n",
        "Training data arrays are used to train the model\r\n",
        "\r\n",
        "Testing arrays allow us to evaluate the performance of the model.\r\n"
      ]
    },
    {
      "cell_type": "code",
      "metadata": {
        "colab": {
          "base_uri": "https://localhost:8080/"
        },
        "id": "upx-hZl8Z6IS",
        "outputId": "5e43387a-4c08-42b7-f3ce-0dc6baa77dc0"
      },
      "source": [
        "(train_images, train_labels), (test_images, test_labels) = fashion_mnist.load_data()"
      ],
      "execution_count": 3,
      "outputs": [
        {
          "output_type": "stream",
          "text": [
            "Downloading data from https://storage.googleapis.com/tensorflow/tf-keras-datasets/train-labels-idx1-ubyte.gz\n",
            "32768/29515 [=================================] - 0s 0us/step\n",
            "Downloading data from https://storage.googleapis.com/tensorflow/tf-keras-datasets/train-images-idx3-ubyte.gz\n",
            "26427392/26421880 [==============================] - 0s 0us/step\n",
            "Downloading data from https://storage.googleapis.com/tensorflow/tf-keras-datasets/t10k-labels-idx1-ubyte.gz\n",
            "8192/5148 [===============================================] - 0s 0us/step\n",
            "Downloading data from https://storage.googleapis.com/tensorflow/tf-keras-datasets/t10k-images-idx3-ubyte.gz\n",
            "4423680/4422102 [==============================] - 0s 0us/step\n"
          ],
          "name": "stdout"
        }
      ]
    },
    {
      "cell_type": "markdown",
      "metadata": {
        "id": "ZFyVeAd2Z_2e"
      },
      "source": [
        "We will use matplotlib to visualize an example of our dataset"
      ]
    },
    {
      "cell_type": "code",
      "metadata": {
        "colab": {
          "base_uri": "https://localhost:8080/",
          "height": 50
        },
        "id": "zqIqoZBoaJEV",
        "outputId": "8a3d09da-4672-4977-fbf4-d9f5868050d4"
      },
      "source": [
        "plt.figure()"
      ],
      "execution_count": 4,
      "outputs": [
        {
          "output_type": "execute_result",
          "data": {
            "text/plain": [
              "<Figure size 432x288 with 0 Axes>"
            ]
          },
          "metadata": {
            "tags": []
          },
          "execution_count": 4
        },
        {
          "output_type": "display_data",
          "data": {
            "text/plain": [
              "<Figure size 432x288 with 0 Axes>"
            ]
          },
          "metadata": {
            "tags": []
          }
        }
      ]
    },
    {
      "cell_type": "code",
      "metadata": {
        "colab": {
          "base_uri": "https://localhost:8080/",
          "height": 265
        },
        "id": "AeakOm7DaSSK",
        "outputId": "27e0628f-cbd3-4034-e36c-8e0c8d4221ce"
      },
      "source": [
        "plt.imshow(train_images[0])\r\n",
        "plt.colorbar()\r\n",
        "plt.grid(False)\r\n",
        "plt.show()"
      ],
      "execution_count": 5,
      "outputs": [
        {
          "output_type": "display_data",
          "data": {
            "image/png": "[encoded data removed]",
            "text/plain": [
              "<Figure size 432x288 with 2 Axes>"
            ]
          },
          "metadata": {
            "tags": [],
            "needs_background": "light"
          }
        }
      ]
    },
    {
      "cell_type": "markdown",
      "metadata": {
        "id": "UD6oEcpca5qk"
      },
      "source": [
        "The greyscale assigned to each pixel has a value in the range of 0-255\r\n",
        "\r\n",
        "We want to flatten it to a value in the range of 0-1.\r\n",
        "\r\n",
        "Each image is stored as a 2D array where each numerical value is the grayscale value of a particuar pixel.\r\n",
        "\r\n",
        "To a get a range of 0-1, we will divide the entire array by a number to get an array whose elements are \"normalized\"."
      ]
    },
    {
      "cell_type": "code",
      "metadata": {
        "id": "K1HuW-t7cPF2"
      },
      "source": [
        "train_images = train_images / 255.0\r\n",
        "test_images = test_images/255.0"
      ],
      "execution_count": 6,
      "outputs": []
    },
    {
      "cell_type": "markdown",
      "metadata": {
        "id": "5OsIIJdpcghd"
      },
      "source": [
        "**MODEL GENERATION**\r\n",
        "\r\n",
        "Every NN is composed of connected layers which are full of connection nodes.\r\n",
        "\r\n",
        "Our model is formed of 3 layers.\r\n",
        "\r\n",
        "1. Input layer\r\n",
        "\r\n",
        "    *  Flatten layer\r\n",
        "    *  Intakes a multi-dimensional array\r\n",
        "    *  Produces an array of a single dimension\r\n",
        "    *  Places all the pixel data on an equal depth during input\r\n",
        "\r\n",
        "Layers 2 & 3 are dense layers.\r\n",
        "\r\n",
        "2. Layer 2: 128 Nodes\r\n",
        "    * Features a Rectified Linear Unit (ReLU) Activation Function that outputs values between zero and 1\r\n",
        "\r\n",
        "3. Layer 3: 10 nodes \r\n",
        "    * Uses the softmax activation function. \r\n",
        "    * Produces values in the 0-1 range,  \r\n",
        "    * The sum of the outputs will be 1! \r\n",
        "    * Excellent at outputting probabilities.\r\n",
        "\r\n",
        "\r\n",
        "**Important**\r\n",
        "\r\n",
        "\r\n",
        "*Activation Functions*\r\n",
        "\r\n",
        "Each layer can have its own particular mathematical operation. These are typically referred to as the activation functions.\r\n",
        "\r\n",
        "determine the form and relationship between the information provided by the layer. "
      ]
    },
    {
      "cell_type": "code",
      "metadata": {
        "id": "ZnqJ9ZFFci7e"
      },
      "source": [
        " model = keras.Sequential([ keras.layers.Flatten(input_shape=(28,28)), keras.layers.Dense(128, activation=tf.nn.relu), keras.layers.Dense(10, activation=tf.nn.softmax)])"
      ],
      "execution_count": 7,
      "outputs": []
    },
    {
      "cell_type": "markdown",
      "metadata": {
        "id": "7o-_euL7PXcf"
      },
      "source": [
        "**Training the Model**\r\n",
        "\r\n",
        "When compiling we should define:\r\n",
        "\r\n",
        "1. *Parameters* that control how models are updated during training (optimizer)\r\n",
        "2. How the model's *accuracy* is measured *during training* (loss function)\r\n",
        "3. What is to be measured to *determine *the model's accuracy (metrics). \r\n"
      ]
    },
    {
      "cell_type": "code",
      "metadata": {
        "id": "8LPsTlsqQDSa"
      },
      "source": [
        "model.compile( optimizer = 'adam', loss = 'sparse_categorical_crossentropy', metrics = ['accuracy'])"
      ],
      "execution_count": 8,
      "outputs": []
    },
    {
      "cell_type": "markdown",
      "metadata": {
        "id": "cVcYNQ0hQYze"
      },
      "source": [
        "We generated and compiled the model.\r\n",
        "We can train it now!\r\n",
        "\r\n",
        "**train_images**: input data\r\n",
        "\r\n",
        " *Recall*: our input Flatten layer takes a (28,28) array, conforming to the dimensionality of our images.\r\n",
        "\r\n",
        "**train_labels**: Providing the correct classification for all the training examples.\r\n",
        "\r\n",
        "**epochs**: a training cycle over all the training data. \r\n",
        "\r\n",
        "Model will be trained overall 60,000 training examples 5 times.\r\n",
        "\r\n",
        " After each epoch, we get both the value of the loss function and the model's accuracy (88.97% after epoch 5) at this epoch."
      ]
    },
    {
      "cell_type": "code",
      "metadata": {
        "colab": {
          "base_uri": "https://localhost:8080/"
        },
        "id": "XPb4qCu9QW5E",
        "outputId": "8a93f51a-8e5b-4b15-d1de-246b840eee84"
      },
      "source": [
        "model.fit(train_images, train_labels, epochs=5)"
      ],
      "execution_count": 9,
      "outputs": [
        {
          "output_type": "stream",
          "text": [
            "Epoch 1/5\n",
            "1875/1875 [==============================] - 4s 2ms/step - loss: 0.6366 - accuracy: 0.7815\n",
            "Epoch 2/5\n",
            "1875/1875 [==============================] - 4s 2ms/step - loss: 0.3805 - accuracy: 0.8643\n",
            "Epoch 3/5\n",
            "1875/1875 [==============================] - 4s 2ms/step - loss: 0.3464 - accuracy: 0.8729\n",
            "Epoch 4/5\n",
            "1875/1875 [==============================] - 4s 2ms/step - loss: 0.3161 - accuracy: 0.8842\n",
            "Epoch 5/5\n",
            "1875/1875 [==============================] - 4s 2ms/step - loss: 0.2979 - accuracy: 0.8900\n"
          ],
          "name": "stdout"
        },
        {
          "output_type": "execute_result",
          "data": {
            "text/plain": [
              "<tensorflow.python.keras.callbacks.History at 0x7f530ab2b990>"
            ]
          },
          "metadata": {
            "tags": []
          },
          "execution_count": 9
        }
      ]
    },
    {
      "cell_type": "markdown",
      "metadata": {
        "id": "PrnJbI-JRoZp"
      },
      "source": [
        "**Evaluating our model**\r\n",
        "\r\n",
        "We built a Neural Network which intakes a (28,28) array, flattens it into a 784 array,  we compiled and trained 2 dense layers.\r\n",
        "\r\n",
        "**Softmax activation function** of the final output layer will provide a probability that the image belongs to each of the 10 label categories.\r\n",
        "\r\n",
        "\r\n",
        "**Model.evaluate function**\r\n",
        "   * takes in the images and labels \r\n",
        "   * compares its predictions to the ground truth provided by the labels. \r\n",
        "   * provides two outputs:\r\n",
        "       - the value of the loss function over the testing example4\r\n",
        "       - the accuracy of the model over this testing population. \r\n",
        "       \r\n",
        "The important output for us is the model's accuracy.\r\n"
      ]
    },
    {
      "cell_type": "code",
      "metadata": {
        "colab": {
          "base_uri": "https://localhost:8080/"
        },
        "id": "PSx7G1ApSqfI",
        "outputId": "077fbcd0-d485-4068-ee92-aa034f633f54"
      },
      "source": [
        "test_loss, test_acc = model.evaluate(test_images, test_labels)"
      ],
      "execution_count": 10,
      "outputs": [
        {
          "output_type": "stream",
          "text": [
            "313/313 [==============================] - 0s 1ms/step - loss: 0.3485 - accuracy: 0.8750\n"
          ],
          "name": "stdout"
        }
      ]
    },
    {
      "cell_type": "markdown",
      "metadata": {
        "id": "gUWJez8-S3vl"
      },
      "source": [
        "Overfitting // learning the data too well\r\n",
        "\r\n",
        "Overfitting occurs when there are too many parameters within the model when compared to the number of training instances; this allows the model to **over learn on those limited examples.** Overfitting leads to better model performance over non-training data.\r\n"
      ]
    },
    {
      "cell_type": "code",
      "metadata": {
        "colab": {
          "base_uri": "https://localhost:8080/"
        },
        "id": "0zaCGNZzTVQX",
        "outputId": "55f7f6ec-1650-44ad-a64e-2ad2615975dc"
      },
      "source": [
        "predictions[0]"
      ],
      "execution_count": 13,
      "outputs": [
        {
          "output_type": "execute_result",
          "data": {
            "text/plain": [
              "array([5.43273927e-07, 6.60212507e-09, 2.95308809e-08, 9.44192724e-10,\n",
              "       4.84006968e-08, 1.30316075e-02, 5.20549122e-07, 1.22808721e-02,\n",
              "       6.63880201e-07, 9.74685669e-01], dtype=float32)"
            ]
          },
          "metadata": {
            "tags": []
          },
          "execution_count": 13
        }
      ]
    },
    {
      "cell_type": "code",
      "metadata": {
        "colab": {
          "base_uri": "https://localhost:8080/"
        },
        "id": "UnUHDHjTT3ff",
        "outputId": "9e34697c-81c2-4665-ee27-f4c136b6fe23"
      },
      "source": [
        "numpy.argmax(predictions[0])"
      ],
      "execution_count": 14,
      "outputs": [
        {
          "output_type": "execute_result",
          "data": {
            "text/plain": [
              "9"
            ]
          },
          "metadata": {
            "tags": []
          },
          "execution_count": 14
        }
      ]
    },
    {
      "cell_type": "code",
      "metadata": {
        "colab": {
          "base_uri": "https://localhost:8080/"
        },
        "id": "QqZGk-62T-3Q",
        "outputId": "78d5aa68-e192-4345-fc8f-80bcea0c6f01"
      },
      "source": [
        "test_labels[0]"
      ],
      "execution_count": 15,
      "outputs": [
        {
          "output_type": "execute_result",
          "data": {
            "text/plain": [
              "9"
            ]
          },
          "metadata": {
            "tags": []
          },
          "execution_count": 15
        }
      ]
    },
    {
      "cell_type": "code",
      "metadata": {
        "id": "sk1e-_a8VFDg"
      },
      "source": [
        ""
      ],
      "execution_count": null,
      "outputs": []
    }
  ]
}